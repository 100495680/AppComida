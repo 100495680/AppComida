{
  "cells": [
    {
      "cell_type": "markdown",
      "source": [],
      "metadata": {
        "id": "yxSnooj3uxEG"
      },
      "id": "yxSnooj3uxEG"
    },
    {
      "cell_type": "markdown",
      "source": [
        "### 0. Explicación de usos relevantes de la IA"
      ],
      "metadata": {
        "id": "C3NJthDcY1Oe"
      },
      "id": "C3NJthDcY1Oe"
    },
    {
      "cell_type": "markdown",
      "source": [
        "El uso principal que hemos hecho de la IA es para poder entender el código o hacer lluvia de ideas de posibles soluciones.\n",
        "Los cambios más significativos potenciados por la IA son.\n",
        "\n",
        "*  **La reestructuración del código.**\n",
        "\n",
        "Explicación:\n",
        "\n",
        "El código anteriormente era muy dificil de comprender debido a que era una mezcla de código propio y código de los ejecicios de clase.\n",
        "\n",
        "Qué se hizo:\n",
        "\n",
        "Se decargó el cuaderno y se creó un script de python que extrallese el código se le pasó este código a ChatGPT con la instrucción de que lo ordenase. Luego este código se pegó cambiando algunas cosas para poder entender mejor la estructuración de este y quitar cosas innecesarias.\n",
        "*   **La optimización del Árbol.**\n",
        "\n",
        "Explicación:\n",
        "\n",
        "El código de optimización del árbol no estaba funcionando bien y aun con cambio de las variables seguía sin mejorar.\n",
        "\n",
        "Qué se hizo:\n",
        "\n",
        "Se preguntó a ChatGPT posibles razones de la no mejora o posibles formas de mejorar.\n",
        "\n",
        "Se preguntó:\n",
        "\n",
        "* Si la relacion de las variables era lineal de forma que se pueda optimizar una y luego la otra ...\n",
        "\n",
        "Respondio que no es posible.\n",
        "\n",
        "* La posibilidad de que si se reduciera el cv hubiera menos overfiting\n",
        "\n",
        "Respondio que esto es erroneo ya que no afecta a las épocas de entrenamiento.\n",
        "\n",
        "* La posibilidad de que se evaluasen los modelos en un train_validation que no haya sido utilizado para el entrenamiento.\n",
        "\n",
        "Verificó la posibilidad de hacerlo aun que la mejora es marginal.\n",
        "\n",
        "\n"
      ],
      "metadata": {
        "id": "wCw9_djPY986"
      },
      "id": "wCw9_djPY986"
    },
    {
      "cell_type": "markdown",
      "source": [
        "### 1. Carga de datos y preprocesamiento (post eda)"
      ],
      "metadata": {
        "id": "fAFsaMnzwCSo"
      },
      "id": "fAFsaMnzwCSo"
    },
    {
      "cell_type": "code",
      "source": [
        "import pandas as pd\n",
        "from sklearn.model_selection import train_test_split\n",
        "from sklearn.preprocessing import MinMaxScaler, StandardScaler, RobustScaler\n",
        "from sklearn.pipeline import Pipeline\n",
        "from sklearn.impute import SimpleImputer\n",
        "from sklearn.neighbors import KNeighborsClassifier\n",
        "from sklearn.tree import DecisionTreeClassifier\n",
        "from sklearn.dummy import DummyClassifier\n",
        "from sklearn.model_selection import cross_val_score, KFold, GridSearchCV\n",
        "from sklearn.linear_model import LogisticRegression\n",
        "from sklearn.svm import LinearSVC\n",
        "from sklearn import metrics\n",
        "import matplotlib.pyplot as plt\n",
        "from sklearn.tree import plot_tree, export_text\n",
        "from sklearn.metrics import balanced_accuracy_score\n",
        "import numpy as np\n",
        "import time\n",
        "\n",
        "# Definir semilla\n",
        "NIA = \"100451061\"\n",
        "SEED = int(NIA[-2]) + int(NIA[-1])\n",
        "\n",
        "# Cargar datos\n",
        "df = pd.read_csv(f\"/content/attrition_cleaned.csv\")\n",
        "\n",
        "# Separar variables\n",
        "X = df.drop(columns=[\"Attrition_Yes\"])\n",
        "y = df[\"Attrition_Yes\"]\n",
        "\n",
        "# División de datos\n",
        "X_train, X_test, y_train, y_test = train_test_split(X, y, test_size=0.33, random_state=SEED, stratify=y)"
      ],
      "metadata": {
        "id": "pZwqYSiKwQm8"
      },
      "id": "pZwqYSiKwQm8",
      "execution_count": null,
      "outputs": []
    },
    {
      "cell_type": "markdown",
      "source": [
        "Por la naturaleza desbalanceada del dataset, visto en la eda. (El porcentaje de si o no en la variable Attrition no es ~50%)\n",
        "\n",
        "Es más util usar la exactitud balanceada que es la media entre el porcentaje de acierto en el si y el porcentaje de acierto en el no"
      ],
      "metadata": {
        "id": "f7w5EHH22bEv"
      },
      "id": "f7w5EHH22bEv"
    },
    {
      "cell_type": "markdown",
      "source": [
        "### 2. Función para entrenar y evaluar modelos"
      ],
      "metadata": {
        "id": "iPKiH-3XwWxX"
      },
      "id": "iPKiH-3XwWxX"
    },
    {
      "cell_type": "code",
      "source": [
        "# Esta función encapsula todo el fit de los splits de las variables, la predicción y la evaluación cruzada en uno\n",
        "# Con el objetivo de automatizar estas acciones repetitivas y hacer que el código sea más legible\n",
        "def train_and_evaluate_model(model, X_train, y_train, X_test, y_test, cv_folds=5, scoring='balanced_accuracy', echo = True):\n",
        "    \"\"\"Entrena un modelo, calcula su exactitud y realiza validación cruzada\"\"\"\n",
        "\n",
        "    # Como el modelo lo creamos mediante Pipelines tenemos que sacar el modelo del pipeline\n",
        "    if isinstance(model, Pipeline):\n",
        "        model_name = model.steps[-1][1].__class__.__name__\n",
        "        estimator = model.steps[-1][1]\n",
        "    else:\n",
        "        model_name = model.__class__.__name__\n",
        "        estimator = model\n",
        "\n",
        "\n",
        "    # Medir tiempo de entrenamiento\n",
        "    start_train = time.time()\n",
        "    model.fit(X_train, y_train)\n",
        "    end_train = time.time()\n",
        "    train_time = end_train - start_train\n",
        "    y_pred = model.predict(X_test)\n",
        "\n",
        "    acc = metrics.balanced_accuracy_score(y_test, y_pred)\n",
        "    cv = KFold(n_splits=cv_folds, shuffle=True, random_state=SEED)\n",
        "    scores = cross_val_score(model, X_train, y_train, cv=cv, scoring=scoring)\n",
        "    if echo:\n",
        "        print(f\"\\nModelo: {model_name}\")\n",
        "        print(f\"Accuracy Balanceado: {acc:.2f}\")\n",
        "        print(f\"Cross-validation mean: {scores.mean():.2f} ± {scores.std():.2f}\")\n",
        "        print(f\"Tiempo de entrenamiento: {train_time:.4f} segundos\")\n",
        "\n",
        "    if isinstance(model, Pipeline): # Devolverá el Pipeline y el modelo en caso de usar pipeline\n",
        "        return estimator, model, acc, train_time\n",
        "    else:\n",
        "        return estimator, acc, train_time"
      ],
      "metadata": {
        "id": "YyjtFjmHwaNy"
      },
      "id": "YyjtFjmHwaNy",
      "execution_count": null,
      "outputs": []
    },
    {
      "cell_type": "markdown",
      "source": [
        "### 3. Entrenamiento y Evaluación de KNN"
      ],
      "metadata": {
        "id": "mdlD-wQ6xJYK"
      },
      "id": "mdlD-wQ6xJYK"
    },
    {
      "cell_type": "code",
      "source": [
        "# Creamos el modelo default KNN\n",
        "knn_pipeline = Pipeline([\n",
        "    ('scaler', MinMaxScaler()),\n",
        "    ('knn', KNeighborsClassifier(n_neighbors=5))\n",
        "])\n",
        "\n",
        "train_and_evaluate_model(knn_pipeline, X_train, y_train, X_test, y_test)\n"
      ],
      "metadata": {
        "id": "JNu34nkzxOSZ"
      },
      "id": "JNu34nkzxOSZ",
      "execution_count": null,
      "outputs": []
    },
    {
      "cell_type": "markdown",
      "source": [
        "### 4. Optimización de hiperparámetros y elección de escalado e imputación para KNN"
      ],
      "metadata": {
        "id": "mTN2kKZ7xZ6P"
      },
      "id": "mTN2kKZ7xZ6P"
    },
    {
      "cell_type": "code",
      "source": [
        "# Creamos el modelo con todos los valores de vecinos desde 1 a 20, con todos los diferentes Escaladores y y evaluamos el mejor\n",
        "\n",
        "scalers = {\n",
        "    'minmax': MinMaxScaler(),\n",
        "    'standard': StandardScaler(),\n",
        "    'robust': RobustScaler()\n",
        "}\n",
        "\n",
        "imputers = { # Estos no serán útiles ya que en el EDA ya decidimos llenar los NA pero si no lo hubieramos hecho si que serviría\n",
        "    'mean': SimpleImputer(strategy='mean'),\n",
        "    'median': SimpleImputer(strategy='median')\n",
        "}\n",
        "\n",
        "# Crear combinaciones en la pipeline\n",
        "pipeline = Pipeline([\n",
        "    ('imputer', SimpleImputer()),  # Cambiará pero tiene que tener uno de inicio\n",
        "    ('scaler', MinMaxScaler()),    # Cambiará pero tiene que tener uno de inicio\n",
        "    ('knn', KNeighborsClassifier())\n",
        "])\n",
        "\n",
        "# Definir los parámetros a buscar\n",
        "param_grid = {\n",
        "    'imputer': [imputers['mean'], imputers['median']],\n",
        "    'scaler': [scalers['minmax'], scalers['standard'], scalers['robust']]\n",
        "}\n",
        "\n",
        "# Optimización con GridSearch\n",
        "grid_knn = GridSearchCV(pipeline, param_grid, cv=5, scoring='balanced_accuracy')\n",
        "grid_knn.fit(X_train, y_train)\n",
        "\n",
        "# Mostrar mejores parámetros\n",
        "print(f\"Mejores hiperparámetros para KNN: {grid_knn.best_params_}\")\n",
        "\n",
        "# Evaluación con el mejor modelo\n",
        "best_knn = grid_knn.best_estimator_\n",
        "\n",
        "pipeline = Pipeline([\n",
        "    ('imputer', best_knn.named_steps['imputer']),\n",
        "    ('scaler', best_knn.named_steps['scaler']),\n",
        "    ('knn', KNeighborsClassifier(n_neighbors=5))\n",
        "])\n",
        "\n",
        "# Definir los parámetros a buscar\n",
        "param_grid = {\n",
        "    'knn__n_neighbors': range(1, 20, 1)  # Ajustando número de vecinos\n",
        "}\n",
        "\n",
        "# Optimización con GridSearch\n",
        "grid_knn = GridSearchCV(pipeline, param_grid, cv=5, scoring='balanced_accuracy')\n",
        "grid_knn.fit(X_train, y_train)\n",
        "\n",
        "\n",
        "# Evaluación con el mejor modelo\n",
        "best_knn = grid_knn.best_estimator_\n",
        "\n",
        "\n",
        "# Mostrar mejores parámetros\n",
        "print(f\"Mejores hiperparámetros para KNN: {grid_knn.best_params_}\")\n",
        "\n",
        "train_and_evaluate_model(best_knn, X_train, y_train, X_test, y_test)"
      ],
      "metadata": {
        "id": "kq-ixgQxxbwj"
      },
      "id": "kq-ixgQxxbwj",
      "execution_count": null,
      "outputs": []
    },
    {
      "cell_type": "markdown",
      "source": [
        "Se observa una clara mejora de un 59% de acierto, casi una moneda, a un 82% de acierto.\n"
      ],
      "metadata": {
        "id": "Qj9EVePC2yvK"
      },
      "id": "Qj9EVePC2yvK"
    },
    {
      "cell_type": "markdown",
      "source": [
        "### 5. Entrenamiento y Evaluación de Árbol de Decisión"
      ],
      "metadata": {
        "id": "abIJ8Lrnxy9s"
      },
      "id": "abIJ8Lrnxy9s"
    },
    {
      "cell_type": "code",
      "source": [
        "# Creamos el árbol de decisión\n",
        "tree_model = DecisionTreeClassifier(random_state=SEED)\n",
        "train_and_evaluate_model(tree_model, X_train, y_train, X_test, y_test)\n",
        "\n",
        "# Dibujamos el árbol\n",
        "fig = plt.figure(figsize=(20,10))\n",
        "plot_tree(tree_model, filled=True)\n",
        "plt.show()"
      ],
      "metadata": {
        "collapsed": true,
        "id": "cIEkjpYDx2_-"
      },
      "id": "cIEkjpYDx2_-",
      "execution_count": null,
      "outputs": []
    },
    {
      "cell_type": "markdown",
      "source": [
        "### 6. Optimización de hiperparámetros para Árbol de Decisión"
      ],
      "metadata": {
        "id": "lF5wddp0yDQ6"
      },
      "id": "lF5wddp0yDQ6"
    },
    {
      "cell_type": "code",
      "source": [
        "# Probamos con diferentes parámetros el Árbol de decisión\n",
        "\n",
        "# Dividimos X_train en un subconjunto de entrenamiento y otro de validación\n",
        "# Esto es para que el Grid Search use el eval para evaluar por que antes sino nos\n",
        "# daba mucho overfiting y de esta forma lo evitamos.\n",
        "\n",
        "X_train_sub, X_eval, y_train_sub, y_eval = train_test_split(\n",
        "    X_train, y_train, test_size=0.2, random_state=SEED, stratify=y_train\n",
        ")\n",
        "\n",
        "# Definimos los hiperparámetros a probar esto creará 2000 modelos.\n",
        "param_dist = {\n",
        "    'max_depth': np.arange(1, 20, 2),\n",
        "    'min_samples_split': np.arange(2, 10, 2),\n",
        "    'min_samples_leaf': np.arange(1, 10, 2)\n",
        "}\n",
        "\n",
        "# Configuramos GridSearchCV\n",
        "grid_tree = GridSearchCV(\n",
        "    DecisionTreeClassifier(random_state=SEED), param_dist, cv=5, scoring='balanced_accuracy'\n",
        ")\n",
        "\n",
        "# Ajustamos GridSearch solo con X_train_sub\n",
        "grid_tree.fit(X_train_sub, y_train_sub)\n",
        "\n",
        "# Mejor modelo encontrado\n",
        "best_tree = grid_tree.best_estimator_\n",
        "\n",
        "# Evaluamos en el conjunto de validación\n",
        "y_eval_pred = best_tree.predict(X_eval)\n",
        "eval_score = balanced_accuracy_score(y_eval, y_eval_pred)\n",
        "\n",
        "# Evaluación final en el test set\n",
        "train_and_evaluate_model(best_tree, X_train, y_train, X_test, y_test)\n",
        "\n",
        "print(f\"\\nMejores hiperparámetros para Árbol de Decisión: {grid_tree.best_params_}\")\n",
        "print(f\"Balanced Accuracy en Validación: {eval_score:.2f}\")"
      ],
      "metadata": {
        "id": "fpxslpmfyHCZ"
      },
      "id": "fpxslpmfyHCZ",
      "execution_count": null,
      "outputs": []
    },
    {
      "cell_type": "code",
      "source": [
        "# Mejora marginal del modelo base por ello hacemos un checkeo de overfitting\n",
        "print(\"Train accuracy:\", best_tree.score(X_train, y_train))\n",
        "print(\"Test accuracy:\", best_tree.score(X_test, y_test))"
      ],
      "metadata": {
        "id": "Uy-HY1v950N4"
      },
      "id": "Uy-HY1v950N4",
      "execution_count": null,
      "outputs": []
    },
    {
      "cell_type": "code",
      "source": [
        "# Obtenemos los valores basados en la evolución de max_depth\n",
        "param_dist = {\n",
        "    'max_depth': np.arange(1, 20, 1),\n",
        "    'min_samples_split': [2],\n",
        "    'min_samples_leaf': [1]\n",
        "}\n",
        "\n",
        "# Configuramos GridSearchCV\n",
        "grid_tree = GridSearchCV(\n",
        "    DecisionTreeClassifier(random_state=SEED), param_dist, cv=5, scoring='balanced_accuracy'\n",
        ")\n",
        "\n",
        "# Ajustamos GridSearch solo con X_train_sub\n",
        "grid_tree.fit(X_train_sub, y_train_sub)\n",
        "\n",
        "# Mejor modelo encontrado\n",
        "best_tree = grid_tree.best_estimator_\n",
        "\n",
        "# Evaluamos en el conjunto de validación\n",
        "y_eval_pred = best_tree.predict(X_eval)\n",
        "eval_score = balanced_accuracy_score(y_eval, y_eval_pred)\n",
        "\n",
        "# Evaluación final en el test set\n",
        "train_and_evaluate_model(best_tree, X_train, y_train, X_test, y_test)"
      ],
      "metadata": {
        "id": "WqKwSa7kITf5"
      },
      "id": "WqKwSa7kITf5",
      "execution_count": null,
      "outputs": []
    },
    {
      "cell_type": "markdown",
      "source": [
        "Concluimos que hay overfiting incluso sin usar train para evaluar"
      ],
      "metadata": {
        "id": "Cffx5NFUaeCu"
      },
      "id": "Cffx5NFUaeCu"
    },
    {
      "cell_type": "markdown",
      "source": [
        "### 7. Evaluación con gráfico de acuracy, y tiempo de ejecución."
      ],
      "metadata": {
        "id": "OvcDIjtGo7Vn"
      },
      "id": "OvcDIjtGo7Vn"
    },
    {
      "cell_type": "code",
      "source": [
        "dummy_model = DummyClassifier(strategy=\"most_frequent\")\n",
        "dummy_model, dummy_acc, dummy_train_time = train_and_evaluate_model(dummy_model, X_train, y_train, X_test, y_test, echo=False)\n",
        "\n",
        "# Evaluación del KNN\n",
        "knn_model, knn_pipeline, knn_acc, knn_train_time = train_and_evaluate_model(knn_pipeline, X_train, y_train, X_test, y_test, echo=False)\n",
        "best_knn_model,best_knn_pipeline, best_knn_acc, best_knn_train_time = train_and_evaluate_model(best_knn, X_train, y_train, X_test, y_test, echo=False)\n",
        "knn_accuracies = grid_knn.cv_results_['mean_test_score']\n",
        "\n",
        "# Graficar los resultados\n",
        "plt.figure(figsize=(12, 6))\n",
        "\n",
        "# Gráfico de precisión\n",
        "plt.subplot(1, 2, 1)\n",
        "plt.plot(range(1,len(knn_accuracies)+1), knn_accuracies, label='KNN (n_neighbors)', color='g')\n",
        "plt.axhline(y=best_knn_acc , linestyle='--', color='r', label=f'Best KNN (n_neighbors={best_knn_pipeline.named_steps.get(\"knn\", None).n_neighbors }), Accuracy={best_knn_acc:.2f}')\n",
        "plt.axhline(y=knn_acc , linestyle='--', color='orange', label=f'Default KNN (n_neighbors={knn_pipeline.named_steps.get(\"knn\", None).n_neighbors }), Accuracy={knn_acc:.2f}')\n",
        "plt.axhline(y=dummy_acc, linestyle='--', color='yellow', label=f'Dummy Model Accuracy={dummy_acc:.2f}')\n",
        "plt.title('Impacto de los Hiperparámetros en la Precisión')\n",
        "plt.xlabel('Hiperparámetro')\n",
        "plt.ylabel('Precisión')\n",
        "plt.legend()\n",
        "plt.ylim(0.4, 1)\n",
        "\n",
        "# Gráfico de tiempo de computación\n",
        "print(f\"Tiempo de entrenamiento dummy: {dummy_train_time}\\nTiempo de entrenamiento default: {knn_train_time}\\nTiempo de entrenamiento mejorado {best_knn_train_time}\")\n",
        "\n",
        "plt.tight_layout()\n",
        "plt.show()\n",
        "\n"
      ],
      "metadata": {
        "id": "OAvVLWhdo6sj",
        "outputId": "4093fef0-702b-41f6-b9eb-cd89c2921a59",
        "colab": {
          "base_uri": "https://localhost:8080/",
          "height": 659
        }
      },
      "id": "OAvVLWhdo6sj",
      "execution_count": null,
      "outputs": [
        {
          "output_type": "stream",
          "name": "stdout",
          "text": [
            "Tiempo de entrenamiento dummy: 0.0020194053649902344\n",
            "Tiempo de entrenamiento default: 0.006647825241088867\n",
            "Tiempo de entrenamiento mejorado 0.01782846450805664\n"
          ]
        },
        {
          "output_type": "display_data",
          "data": {
            "text/plain": [
              "<Figure size 1200x600 with 1 Axes>"
            ],
            "image/png": "[encoded data removed]"
          },
          "metadata": {}
        }
      ]
    },
    {
      "cell_type": "code",
      "source": [],
      "metadata": {
        "id": "7qmO8rLTFxBJ"
      },
      "id": "7qmO8rLTFxBJ",
      "execution_count": null,
      "outputs": []
    },
    {
      "cell_type": "code",
      "source": [
        "# Evaluación del KNN\n",
        "tree_model, tree_acc, tree_train_time = train_and_evaluate_model(tree_model, X_train, y_train, X_test, y_test)\n",
        "best_tree_model, best_tree_acc, best_tree_train_time = train_and_evaluate_model(best_tree, X_train, y_train, X_test, y_test)\n",
        "tree_accuracies = grid_tree.cv_results_['mean_test_score']\n",
        "\n",
        "# Graficar los resultados\n",
        "plt.figure(figsize=(12, 6))\n",
        "\n",
        "# Gráfico de precisión\n",
        "plt.subplot(1, 2, 1)\n",
        "plt.plot(range(1,len(tree_accuracies)+1), tree_accuracies, label='Tree (max_depth), min_samples_split = 2, min_samples_leaf = 1', color='g')\n",
        "plt.axhline(y=max(tree_accuracies) , linestyle='--', color='r', label=f'Best Tree (max_depth={list(tree_accuracies).index(max(tree_accuracies))+1}), Accuracy={best_tree_acc:.2f}, min_samples_split = 2, min_samples_leaf = 1')\n",
        "plt.axhline(y=tree_acc , linestyle='--', color='orange', label=f'Default Tree (max_depth={tree_model.get_params()[\"max_depth\"]}), Accuracy={tree_acc:.2f}  min_samples_split = {tree_model.get_params()[\"min_samples_split\"]}, min_samples_leaf = {tree_model.get_params()[\"min_samples_leaf\"]}')\n",
        "plt.axhline(y=dummy_acc, linestyle='--', color='yellow', label=f'Dummy Model Accuracy={dummy_acc:.2f}')\n",
        "plt.title('Impacto de los Hiperparámetros en la Precisión')\n",
        "plt.xlabel('Hiperparámetro')\n",
        "plt.ylabel('Precisión')\n",
        "plt.legend()\n",
        "plt.ylim(0.4, 1)\n",
        "\n",
        "# Gráfico de tiempo de computación\n",
        "print(f\"Tiempo de computación dummy: {dummy_train_time}\\nTiempo de computación default: {tree_train_time}\\nTiempo de computacion mejorado {best_tree_train_time}\")\n",
        "\n",
        "plt.tight_layout()\n",
        "plt.show()"
      ],
      "metadata": {
        "id": "wcnyJXUVBVd-",
        "outputId": "a5eab40c-37aa-4e2f-d821-909b81fac21f",
        "colab": {
          "base_uri": "https://localhost:8080/",
          "height": 833
        }
      },
      "id": "wcnyJXUVBVd-",
      "execution_count": null,
      "outputs": [
        {
          "output_type": "stream",
          "name": "stdout",
          "text": [
            "\n",
            "Modelo: DecisionTreeClassifier\n",
            "Accuracy Balanceado: 0.76\n",
            "Cross-validation mean: 0.79 ± 0.02\n",
            "Tiempo de entrenamiento: 0.0726 segundos\n",
            "\n",
            "Modelo: DecisionTreeClassifier\n",
            "Accuracy Balanceado: 0.75\n",
            "Cross-validation mean: 0.79 ± 0.03\n",
            "Tiempo de entrenamiento: 0.0635 segundos\n",
            "Tiempo de computación dummy: 0.0020194053649902344\n",
            "Tiempo de computación default: 0.07260680198669434\n",
            "Tiempo de computacion mejorado 0.06354880332946777\n"
          ]
        },
        {
          "output_type": "display_data",
          "data": {
            "text/plain": [
              "<Figure size 1200x600 with 1 Axes>"
            ],
            "image/png": "[encoded data removed]"
          },
          "metadata": {}
        }
      ]
    },
    {
      "cell_type": "markdown",
      "source": [
        "### 8.Evaluar modelos lineales (con/sin regularización L1) y SVM con hiperparámetros por defecto"
      ],
      "metadata": {
        "id": "27TC3RuBn_Qk"
      },
      "id": "27TC3RuBn_Qk"
    },
    {
      "cell_type": "code",
      "source": [
        "# Para estos modelos es necesario primero escalar los datos\n",
        "scaler = StandardScaler()\n",
        "X_train_scaled = scaler.fit_transform(X_train)\n",
        "X_test_scaled = scaler.transform(X_test)"
      ],
      "metadata": {
        "id": "o9tRD5vkIvhD"
      },
      "id": "o9tRD5vkIvhD",
      "execution_count": null,
      "outputs": []
    },
    {
      "cell_type": "code",
      "source": [
        "# Evaluar modelo lineal (Logistic Regression) sin regularización L1\n",
        "logreg_np = LogisticRegression(penalty=None, max_iter=1000)\n",
        "train_and_evaluate_model(logreg_np, X_train_scaled, y_train, X_test_scaled, y_test)\n",
        "print('') # Para que no se imprima el modelo"
      ],
      "metadata": {
        "id": "a9MZ3Uq_oSYN",
        "outputId": "56e137e4-a84f-4d7d-c2e4-75d8c9fdb31a",
        "colab": {
          "base_uri": "https://localhost:8080/"
        }
      },
      "id": "a9MZ3Uq_oSYN",
      "execution_count": null,
      "outputs": [
        {
          "output_type": "stream",
          "name": "stdout",
          "text": [
            "\n",
            "Modelo: LogisticRegression\n",
            "Accuracy Balanceado: 0.60\n",
            "Cross-validation mean: 0.63 ± 0.01\n",
            "Tiempo de entrenamiento: 0.0071 segundos\n",
            "\n"
          ]
        }
      ]
    },
    {
      "cell_type": "code",
      "source": [
        "# Evaluar modelo lineal (Logistic Regression) con regularización L1\n",
        "logreg_l1 = LogisticRegression(penalty='l1', solver='liblinear', max_iter=1000)\n",
        "train_and_evaluate_model(logreg_l1, X_train_scaled, y_train, X_test_scaled, y_test)\n",
        "print('') # Para que no se imprima el modelo"
      ],
      "metadata": {
        "id": "-E5v3UO5oYQT",
        "outputId": "eb8484c1-dc08-4c12-8b06-16c03b87cdd3",
        "colab": {
          "base_uri": "https://localhost:8080/"
        }
      },
      "id": "-E5v3UO5oYQT",
      "execution_count": null,
      "outputs": [
        {
          "output_type": "stream",
          "name": "stdout",
          "text": [
            "\n",
            "Modelo: LogisticRegression\n",
            "Accuracy Balanceado: 0.60\n",
            "Cross-validation mean: 0.62 ± 0.01\n",
            "Tiempo de entrenamiento: 0.0200 segundos\n",
            "\n"
          ]
        }
      ]
    },
    {
      "cell_type": "code",
      "source": [
        "# Evaluar SVM con un kernel lineal (LinearSVC)\n",
        "svm = LinearSVC(max_iter=1000)\n",
        "train_and_evaluate_model(svm, X_train_scaled, y_train, X_test_scaled, y_test)\n",
        "print('') # Para que no se imprima el modelo"
      ],
      "metadata": {
        "id": "bzx1b8fzoZ48",
        "outputId": "f7aba9c6-b3e0-49e0-8971-a4c74cd23120",
        "colab": {
          "base_uri": "https://localhost:8080/"
        }
      },
      "id": "bzx1b8fzoZ48",
      "execution_count": null,
      "outputs": [
        {
          "output_type": "stream",
          "name": "stdout",
          "text": [
            "\n",
            "Modelo: LinearSVC\n",
            "Accuracy Balanceado: 0.57\n",
            "Cross-validation mean: 0.58 ± 0.02\n",
            "Tiempo de entrenamiento: 0.0108 segundos\n",
            "\n"
          ]
        }
      ]
    },
    {
      "cell_type": "markdown",
      "source": [
        "### 9.Optimizar hiperparámetros y volver a evaluar, midiendo tiempos"
      ],
      "metadata": {
        "id": "lYI76SyoJMD1"
      },
      "id": "lYI76SyoJMD1"
    },
    {
      "cell_type": "code",
      "source": [
        "# Optimizamos lo parametros del modelo lineal sin regularización\n",
        "param_dist_logreg = {\n",
        "    'solver': [ 'lbfgs', 'saga', 'newton-cg']\n",
        "}\n",
        "\n",
        "grid_logreg = GridSearchCV(LogisticRegression(penalty=None, max_iter=5000), param_dist_logreg, cv=5, scoring='balanced_accuracy')\n",
        "grid_logreg.fit(X_train_scaled, y_train)\n",
        "best_logreg_np = grid_logreg.best_estimator_\n",
        "print(\"Best Logistic Regression Params:\", grid_logreg.best_params_)\n",
        "train_and_evaluate_model(best_logreg_np , X_train_scaled, y_train, X_test_scaled, y_test)"
      ],
      "metadata": {
        "id": "DFhMrInpJRPP",
        "outputId": "76782d73-7c6a-4db9-a311-b9da8ca2742a",
        "colab": {
          "base_uri": "https://localhost:8080/"
        }
      },
      "id": "DFhMrInpJRPP",
      "execution_count": null,
      "outputs": [
        {
          "output_type": "stream",
          "name": "stdout",
          "text": [
            "Best Logistic Regression Params: {'solver': 'lbfgs'}\n",
            "\n",
            "Modelo: LogisticRegression\n",
            "Accuracy Balanceado: 0.60\n",
            "Cross-validation mean: 0.63 ± 0.01\n",
            "Tiempo de entrenamiento: 0.0053 segundos\n"
          ]
        },
        {
          "output_type": "execute_result",
          "data": {
            "text/plain": [
              "(LogisticRegression(max_iter=5000, penalty=None),\n",
              " np.float64(0.5979514546393527),\n",
              " 0.005293607711791992)"
            ]
          },
          "metadata": {},
          "execution_count": 8
        }
      ]
    },
    {
      "cell_type": "code",
      "source": [
        "# Optimizamos lo parametros del modelo lineal sin regularización\n",
        "param_dist_logreg_l1 = {\n",
        "    'C': np.logspace(-5, 5, 15),  # Cogemos un muestreo de 15 datos entre 10^-5 y 10^5\n",
        "    'solver': ['liblinear', 'saga'],\n",
        "    'class_weight': [None, 'balanced'],  # Para poder tener las clases desbalanceadas mejor en cuenta\n",
        "}\n",
        "\n",
        "grid_logreg_l1 = GridSearchCV(LogisticRegression(penalty='l1', max_iter=5000), param_dist_logreg_l1, cv=5, scoring='balanced_accuracy')\n",
        "grid_logreg_l1.fit(X_train_scaled, y_train)\n",
        "best_logreg_l1 = grid_logreg_l1.best_estimator_\n",
        "train_and_evaluate_model(best_logreg_l1 , X_train_scaled, y_train, X_test_scaled, y_test)\n",
        "print(\"Best Logistic Regression Params:\", grid_logreg_l1.best_params_)"
      ],
      "metadata": {
        "id": "st59H-WDOMi3",
        "outputId": "4c43f688-7845-4b7a-c97f-2437c66ece1a",
        "colab": {
          "base_uri": "https://localhost:8080/"
        }
      },
      "id": "st59H-WDOMi3",
      "execution_count": null,
      "outputs": [
        {
          "output_type": "stream",
          "name": "stdout",
          "text": [
            "\n",
            "Modelo: LogisticRegression\n",
            "Accuracy Balanceado: 0.69\n",
            "Cross-validation mean: 0.76 ± 0.04\n",
            "Tiempo de entrenamiento: 0.0618 segundos\n",
            "Best Logistic Regression Params: {'C': np.float64(1.0), 'class_weight': 'balanced', 'solver': 'liblinear'}\n"
          ]
        }
      ]
    },
    {
      "cell_type": "code",
      "source": [
        "param_dist_svm = {\n",
        "    'C': np.logspace(-3, 3, 10),  # Wide range for regularization\n",
        "    'class_weight': [None, 'balanced']  # Handle imbalance\n",
        "}\n",
        "\n",
        "grid_svm = GridSearchCV(LinearSVC(max_iter=1000), param_dist_svm, cv=5, scoring='balanced_accuracy')\n",
        "grid_svm.fit(X_train_scaled, y_train)\n",
        "best_svm = grid_svm.best_estimator_\n",
        "train_and_evaluate_model(best_svm , X_train_scaled, y_train, X_test_scaled, y_test)\n",
        "print(\"Best Logistic Regression Params:\", grid_svm.best_params_)"
      ],
      "metadata": {
        "id": "s6Vg3wO3PzJ0",
        "outputId": "59eeaec4-7cf8-4eb9-bc35-be0bdcbe6086",
        "colab": {
          "base_uri": "https://localhost:8080/"
        }
      },
      "id": "s6Vg3wO3PzJ0",
      "execution_count": null,
      "outputs": [
        {
          "output_type": "stream",
          "name": "stdout",
          "text": [
            "\n",
            "Modelo: LinearSVC\n",
            "Accuracy Balanceado: 0.70\n",
            "Cross-validation mean: 0.76 ± 0.04\n",
            "Tiempo de entrenamiento: 0.0118 segundos\n",
            "Best Logistic Regression Params: {'C': np.float64(0.004641588833612777), 'class_weight': 'balanced'}\n"
          ]
        }
      ]
    },
    {
      "cell_type": "markdown",
      "source": [
        "### 10.Analizar qué atributos son más relevantes en cada modelo"
      ],
      "metadata": {
        "id": "T665em1BULaa"
      },
      "id": "T665em1BULaa"
    },
    {
      "cell_type": "code",
      "source": [
        "dummy_model = DummyClassifier(strategy=\"most_frequent\")\n",
        "train_and_evaluate_model(dummy_model, X_train_scaled, y_train, X_test_scaled, y_test)\n",
        "\n",
        "# Evaluación del log_reg_np\n",
        "train_and_evaluate_model(logreg_np, X_train_scaled, y_train, X_test_scaled, y_test)\n",
        "train_and_evaluate_model(best_logreg_np, X_train_scaled, y_train, X_test_scaled, y_test)\n",
        "print(\"\\nNo hay mejoras por que solo cambiamos el solver y este es el mismo\")"
      ],
      "metadata": {
        "id": "yjohkMPtUqR2",
        "outputId": "5ade9cc1-d62e-49f3-8482-dab03fcf2f5d",
        "colab": {
          "base_uri": "https://localhost:8080/"
        }
      },
      "id": "yjohkMPtUqR2",
      "execution_count": null,
      "outputs": [
        {
          "output_type": "stream",
          "name": "stdout",
          "text": [
            "\n",
            "Modelo: DummyClassifier\n",
            "Accuracy Balanceado: 0.50\n",
            "Cross-validation mean: 0.50 ± 0.00\n",
            "Tiempo de entrenamiento: 0.0032 segundos\n",
            "\n",
            "Modelo: LogisticRegression\n",
            "Accuracy Balanceado: 0.60\n",
            "Cross-validation mean: 0.63 ± 0.01\n",
            "Tiempo de entrenamiento: 0.0167 segundos\n",
            "\n",
            "Modelo: LogisticRegression\n",
            "Accuracy Balanceado: 0.60\n",
            "Cross-validation mean: 0.63 ± 0.01\n",
            "Tiempo de entrenamiento: 0.0075 segundos\n",
            "\n",
            "No hay mejoras por que solo cambiamos el solver y este es el mismo\n"
          ]
        }
      ]
    },
    {
      "cell_type": "code",
      "source": [
        "dummy_model = DummyClassifier(strategy=\"most_frequent\")\n",
        "train_and_evaluate_model(dummy_model, X_train_scaled, y_train, X_test_scaled, y_test)\n",
        "\n",
        "# Evaluación del logreg_l1\n",
        "train_and_evaluate_model(logreg_l1, X_train_scaled, y_train, X_test_scaled, y_test)\n",
        "train_and_evaluate_model(best_logreg_l1, X_train_scaled, y_train, X_test_scaled, y_test)\n",
        "print(\"\\nHay mejoras aun que el modelo final no es óptimo\")"
      ],
      "metadata": {
        "id": "dfIigNevXCb5",
        "outputId": "cb7ce5c4-cc9c-4fc2-806a-b9d62223b5c8",
        "colab": {
          "base_uri": "https://localhost:8080/"
        }
      },
      "id": "dfIigNevXCb5",
      "execution_count": null,
      "outputs": [
        {
          "output_type": "stream",
          "name": "stdout",
          "text": [
            "\n",
            "Modelo: DummyClassifier\n",
            "Accuracy Balanceado: 0.50\n",
            "Cross-validation mean: 0.50 ± 0.00\n",
            "Tiempo de entrenamiento: 0.0024 segundos\n",
            "\n",
            "Modelo: LogisticRegression\n",
            "Accuracy Balanceado: 0.60\n",
            "Cross-validation mean: 0.62 ± 0.01\n",
            "Tiempo de entrenamiento: 0.0239 segundos\n",
            "\n",
            "Modelo: LogisticRegression\n",
            "Accuracy Balanceado: 0.69\n",
            "Cross-validation mean: 0.76 ± 0.04\n",
            "Tiempo de entrenamiento: 0.0409 segundos\n",
            "\n",
            "Hay mejoras aun que el modelo final no es óptimo\n"
          ]
        }
      ]
    },
    {
      "cell_type": "code",
      "source": [
        "dummy_model = DummyClassifier(strategy=\"most_frequent\")\n",
        "train_and_evaluate_model(dummy_model, X_train_scaled, y_train, X_test_scaled, y_test)\n",
        "\n",
        "# Evaluación del svm\n",
        "train_and_evaluate_model(svm, X_train_scaled, y_train, X_test_scaled, y_test)\n",
        "train_and_evaluate_model(best_svm, X_train_scaled, y_train, X_test_scaled, y_test)\n",
        "print(\"\\nHay mejoras aun que el modelo final no es óptimo\")"
      ],
      "metadata": {
        "id": "OL3cl8oOYKKQ",
        "outputId": "b0a20b7f-a6c1-4712-d00f-cc90f5b7ecaf",
        "colab": {
          "base_uri": "https://localhost:8080/"
        }
      },
      "id": "OL3cl8oOYKKQ",
      "execution_count": null,
      "outputs": [
        {
          "output_type": "stream",
          "name": "stdout",
          "text": [
            "\n",
            "Modelo: DummyClassifier\n",
            "Accuracy Balanceado: 0.50\n",
            "Cross-validation mean: 0.50 ± 0.00\n",
            "Tiempo de entrenamiento: 0.0042 segundos\n",
            "\n",
            "Modelo: LinearSVC\n",
            "Accuracy Balanceado: 0.57\n",
            "Cross-validation mean: 0.58 ± 0.02\n",
            "Tiempo de entrenamiento: 0.0136 segundos\n",
            "\n",
            "Modelo: LinearSVC\n",
            "Accuracy Balanceado: 0.70\n",
            "Cross-validation mean: 0.76 ± 0.04\n",
            "Tiempo de entrenamiento: 0.0123 segundos\n",
            "\n",
            "Hay mejoras aun que el modelo final no es óptimo\n"
          ]
        }
      ]
    },
    {
      "cell_type": "markdown",
      "source": [
        "### 11.Modelo Seleccionado\n",
        "\n",
        "Después de evaluar distintos modelos, el mejor resultado lo ha ofrecido el modelo **K-Nearest Neighbors (KNN) optimizado**, al que hemos llamado `best_knn`.\n",
        "\n",
        "Este modelo ya se encuentra **entrenado y validado**, por lo que será utilizado para realizar las predicciones finales en el siguiente notebook, `prediccion.ipynb`."
      ],
      "metadata": {
        "id": "5QTGh88dF4Yr"
      },
      "id": "5QTGh88dF4Yr"
    },
    {
      "cell_type": "code",
      "source": [
        "import joblib\n",
        "\n",
        "# Guardar modelo\n",
        "joblib.dump(best_knn, \"modelo_final.pkl\")\n",
        "\n",
        "# Guardar columnas usadas durante el entrenamiento\n",
        "X_train_encoded = pd.get_dummies(X_train)  # si no lo tienes guardado ya\n",
        "joblib.dump(X_train_encoded.columns.tolist(), \"columnas_entrenamiento.pkl\")\n",
        "\n",
        "print(\"Modelo y columnas guardados.\")"
      ],
      "metadata": {
        "id": "rZoISzU0GDLN",
        "outputId": "c2234225-6d98-416c-d196-f09130a3b609",
        "colab": {
          "base_uri": "https://localhost:8080/"
        }
      },
      "id": "rZoISzU0GDLN",
      "execution_count": null,
      "outputs": [
        {
          "output_type": "stream",
          "name": "stdout",
          "text": [
            "Modelo guardado como 'modelo_final.pkl'\n"
          ]
        }
      ]
    },
    {
      "cell_type": "markdown",
      "source": [
        "El modelo ha sido guardado en disco con el nombre **`modelo_final.pkl`** para su reutilización.\n"
      ],
      "metadata": {
        "id": "3PrMRqPvGrRm"
      },
      "id": "3PrMRqPvGrRm"
    },
    {
      "cell_type": "markdown",
      "source": [
        "## 12.Modelo adicional: Regresión Logística\n",
        "\n",
        "Para completar la práctica, añadimos un modelo extra. En este caso, hemos elegido la **Regresión Logística**, que es un modelo lineal clásico para clasificación binaria.\n",
        "\n",
        "Evaluaremos su rendimiento usando exactitud balanceada, igual que en los modelos anteriores, para que la comparación sea justa dado el desbalance de clases."
      ],
      "metadata": {
        "id": "V7X2vrmilrPz"
      },
      "id": "V7X2vrmilrPz"
    },
    {
      "cell_type": "code",
      "source": [
        "# Modelo extra: Regresión Logística\n",
        "from sklearn.linear_model import LogisticRegression\n",
        "\n",
        "# Creamos el modelo\n",
        "logreg_model = LogisticRegression(max_iter=1000, random_state=SEED)\n",
        "\n",
        "# Lo evaluamos con la función común\n",
        "train_and_evaluate_model(logreg_model, X_train_scaled, y_train, X_test_scaled, y_test)"
      ],
      "metadata": {
        "id": "9v088zB6lvaU",
        "outputId": "967ef113-710a-4a2b-c755-052c0f551eed",
        "colab": {
          "base_uri": "https://localhost:8080/"
        }
      },
      "id": "9v088zB6lvaU",
      "execution_count": null,
      "outputs": [
        {
          "output_type": "stream",
          "name": "stdout",
          "text": [
            "\n",
            "Modelo: LogisticRegression\n",
            "Accuracy Balanceado: 0.60\n",
            "Cross-validation mean: 0.63 ± 0.01\n",
            "Tiempo de entrenamiento: 0.0134 segundos\n"
          ]
        },
        {
          "output_type": "execute_result",
          "data": {
            "text/plain": [
              "(LogisticRegression(max_iter=1000, random_state=7),\n",
              " np.float64(0.5985657052536033),\n",
              " 0.013428449630737305)"
            ]
          },
          "metadata": {},
          "execution_count": 30
        }
      ]
    },
    {
      "cell_type": "markdown",
      "source": [
        "A continuación se muestran sus resultados:\n",
        "\n",
        "- **Accuracy Balanceado**: 0.60\n",
        "- **Media de validación cruzada**: 0.63 ± 0.01\n",
        "- **Tiempo de entrenamiento**: 0.0134 segundos"
      ],
      "metadata": {
        "id": "E1kfESmhmcfG"
      },
      "id": "E1kfESmhmcfG"
    },
    {
      "cell_type": "markdown",
      "source": [
        "### Conclusión sobre el modelo adicional\n",
        "\n",
        "Como se puede observar, la Regresión Logística obtiene un rendimiento aceptable, pero **no supera al KNN optimizado** en exactitud balanceada ni en resultados globales.\n",
        "\n",
        "Por tanto, **confirmamos que el modelo final más adecuado para este problema es el K-Nearest Neighbors optimizado**, ya que proporciona la mejor combinación de rendimiento y estabilidad, según las métricas evaluadas."
      ],
      "metadata": {
        "id": "7dd9klBfmNIO"
      },
      "id": "7dd9klBfmNIO"
    },
    {
      "cell_type": "markdown",
      "source": [
        "### 13.Cargar Modelo Final"
      ],
      "metadata": {
        "id": "XCx69UlCt-Wr"
      },
      "id": "XCx69UlCt-Wr"
    },
    {
      "cell_type": "code",
      "source": [
        "import joblib\n",
        "\n",
        "ruta_modelo = 'modelo_final.pkl'\n",
        "\n",
        "modelo = joblib.load(ruta_modelo)\n",
        "\n",
        "modelo.predict(X)\n"
      ],
      "metadata": {
        "id": "j3X6QcEJuEyO",
        "outputId": "3f839e74-e092-4df8-9d46-d9481e8839d1",
        "colab": {
          "base_uri": "https://localhost:8080/",
          "height": 176
        }
      },
      "id": "j3X6QcEJuEyO",
      "execution_count": 5,
      "outputs": [
        {
          "output_type": "error",
          "ename": "AttributeError",
          "evalue": "'numpy.ndarray' object has no attribute 'to_csv'",
          "traceback": [
            "\u001b[0;31m---------------------------------------------------------------------------\u001b[0m",
            "\u001b[0;31mAttributeError\u001b[0m                            Traceback (most recent call last)",
            "\u001b[0;32m<ipython-input-5-d838e48212f8>\u001b[0m in \u001b[0;36m<cell line: 0>\u001b[0;34m()\u001b[0m\n\u001b[1;32m      5\u001b[0m \u001b[0mmodelo\u001b[0m \u001b[0;34m=\u001b[0m \u001b[0mjoblib\u001b[0m\u001b[0;34m.\u001b[0m\u001b[0mload\u001b[0m\u001b[0;34m(\u001b[0m\u001b[0mruta_modelo\u001b[0m\u001b[0;34m)\u001b[0m\u001b[0;34m\u001b[0m\u001b[0;34m\u001b[0m\u001b[0m\n\u001b[1;32m      6\u001b[0m \u001b[0;34m\u001b[0m\u001b[0m\n\u001b[0;32m----> 7\u001b[0;31m \u001b[0mmodelo\u001b[0m\u001b[0;34m.\u001b[0m\u001b[0mpredict\u001b[0m\u001b[0;34m(\u001b[0m\u001b[0mX\u001b[0m\u001b[0;34m)\u001b[0m\u001b[0;34m.\u001b[0m\u001b[0mto_csv\u001b[0m\u001b[0;34m(\u001b[0m\u001b[0;34m'prediciones.csv'\u001b[0m\u001b[0;34m)\u001b[0m\u001b[0;34m\u001b[0m\u001b[0;34m\u001b[0m\u001b[0m\n\u001b[0m",
            "\u001b[0;31mAttributeError\u001b[0m: 'numpy.ndarray' object has no attribute 'to_csv'"
          ]
        }
      ]
    },
    {
      "cell_type": "code",
      "source": [
        "X['Attrition'] = modelo.predict(X)\n",
        "X.to_csv('prediciones.csv')"
      ],
      "metadata": {
        "id": "Nb5AcaDtwHWh"
      },
      "id": "Nb5AcaDtwHWh",
      "execution_count": null,
      "outputs": []
    }
  ],
  "metadata": {
    "kernelspec": {
      "display_name": "Python 3",
      "language": "python",
      "name": "python3"
    },
    "language_info": {
      "codemirror_mode": {
        "name": "ipython",
        "version": 2
      },
      "file_extension": ".py",
      "mimetype": "text/x-python",
      "name": "python",
      "nbconvert_exporter": "python",
      "pygments_lexer": "ipython2",
      "version": "2.7.6"
    },
    "colab": {
      "provenance": []
    }
  },
  "nbformat": 4,
  "nbformat_minor": 5
}